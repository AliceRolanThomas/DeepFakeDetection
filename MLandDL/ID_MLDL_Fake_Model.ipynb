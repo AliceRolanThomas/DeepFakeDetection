{
  "cells": [
    {
      "cell_type": "code",
      "execution_count": null,
      "metadata": {
        "colab": {
          "base_uri": "https://localhost:8080/"
        },
        "execution": {
          "iopub.execute_input": "2025-07-30T18:55:28.407354Z",
          "iopub.status.busy": "2025-07-30T18:55:28.407172Z",
          "iopub.status.idle": "2025-07-30T18:55:34.180225Z",
          "shell.execute_reply": "2025-07-30T18:55:34.17941Z",
          "shell.execute_reply.started": "2025-07-30T18:55:28.407336Z"
        },
        "id": "kwS--WYNiadh",
        "outputId": "23fc8777-4967-4eb7-c6a3-1a2115c43841",
        "trusted": true
      },
      "outputs": [],
      "source": [
        "!pip install scikit-learn optuna"
      ]
    },
    {
      "cell_type": "code",
      "execution_count": null,
      "metadata": {
        "colab": {
          "base_uri": "https://localhost:8080/"
        },
        "execution": {
          "iopub.execute_input": "2025-07-30T18:55:34.189439Z",
          "iopub.status.busy": "2025-07-30T18:55:34.189206Z",
          "iopub.status.idle": "2025-07-30T18:55:39.326725Z",
          "shell.execute_reply": "2025-07-30T18:55:39.325914Z",
          "shell.execute_reply.started": "2025-07-30T18:55:34.189413Z"
        },
        "id": "6FSwMbEvk1f3",
        "outputId": "8b9b5f43-c95f-4c82-b572-ec3a08e31637",
        "trusted": true
      },
      "outputs": [],
      "source": [
        "import kagglehub\n",
        "\n",
        "# Download latest version\n",
        "path = kagglehub.dataset_download(\"alicer5/idcarddataset\")\n",
        "\n",
        "print(\"Path to dataset files:\", path)"
      ]
    },
    {
      "cell_type": "code",
      "execution_count": null,
      "metadata": {
        "execution": {
          "iopub.execute_input": "2025-07-30T18:55:39.327905Z",
          "iopub.status.busy": "2025-07-30T18:55:39.327647Z",
          "iopub.status.idle": "2025-07-30T18:55:39.332683Z",
          "shell.execute_reply": "2025-07-30T18:55:39.331671Z",
          "shell.execute_reply.started": "2025-07-30T18:55:39.32788Z"
        },
        "id": "f3lRQKQRdQDl",
        "trusted": true
      },
      "outputs": [],
      "source": [
        "path = f'{path}/IDCardDataset'"
      ]
    },
    {
      "cell_type": "code",
      "execution_count": null,
      "metadata": {
        "execution": {
          "iopub.execute_input": "2025-07-30T18:55:39.334014Z",
          "iopub.status.busy": "2025-07-30T18:55:39.333727Z",
          "iopub.status.idle": "2025-07-30T18:55:39.449301Z",
          "shell.execute_reply": "2025-07-30T18:55:39.448597Z",
          "shell.execute_reply.started": "2025-07-30T18:55:39.333984Z"
        },
        "id": "--QxZ14hqEZD",
        "trusted": true
      },
      "outputs": [],
      "source": [
        "import warnings\n",
        "warnings.filterwarnings(\"ignore\")"
      ]
    },
    {
      "cell_type": "code",
      "execution_count": null,
      "metadata": {
        "execution": {
          "iopub.execute_input": "2025-07-30T18:55:39.450358Z",
          "iopub.status.busy": "2025-07-30T18:55:39.450099Z",
          "iopub.status.idle": "2025-07-30T18:55:39.46799Z",
          "shell.execute_reply": "2025-07-30T18:55:39.467434Z",
          "shell.execute_reply.started": "2025-07-30T18:55:39.450329Z"
        },
        "id": "SAuz9NIsigT0",
        "trusted": true
      },
      "outputs": [],
      "source": [
        "# re-size all the images to this\n",
        "DL_IMAGE_SIZE = [256, 256]\n",
        "BATCH_SIZE = 32\n",
        "EPOCHS = 100\n",
        "\n",
        "train_path = f\"{path}/train\"\n",
        "valid_path = f\"{path}/test\""
      ]
    },
    {
      "cell_type": "code",
      "execution_count": null,
      "metadata": {
        "execution": {
          "iopub.execute_input": "2025-07-30T18:55:39.469003Z",
          "iopub.status.busy": "2025-07-30T18:55:39.468757Z",
          "iopub.status.idle": "2025-07-30T18:56:13.32115Z",
          "shell.execute_reply": "2025-07-30T18:56:13.320259Z",
          "shell.execute_reply.started": "2025-07-30T18:55:39.468981Z"
        },
        "id": "EtrBKy3fiagp",
        "trusted": true
      },
      "outputs": [],
      "source": [
        "import os\n",
        "import numpy as np\n",
        "from sklearn.model_selection import train_test_split, cross_val_score\n",
        "from sklearn.preprocessing import LabelEncoder, StandardScaler\n",
        "from sklearn.svm import SVC\n",
        "from sklearn.metrics import classification_report, accuracy_score, confusion_matrix\n",
        "from skimage.io import imread\n",
        "from skimage.transform import resize\n",
        "import optuna\n",
        "\n",
        "# Parameters\n",
        "IMAGE_SIZE = (256, 256)  # You can change this\n",
        "data_dir = train_path  # Replace with your path\n",
        "\n",
        "X = []\n",
        "y = []\n",
        "\n",
        "# Walk through dataset\n",
        "for data_dir in [train_path,valid_path]:\n",
        "    for label in os.listdir(data_dir):\n",
        "        label_path = os.path.join(data_dir, label)\n",
        "        if not os.path.isdir(label_path):\n",
        "            continue\n",
        "        for img_file in os.listdir(label_path):\n",
        "            if img_file.lower().endswith(('.jpg', '.jpeg', '.png')):\n",
        "                img_path = os.path.join(label_path, img_file)\n",
        "                img = imread(img_path, as_gray=True)  # Convert to grayscale\n",
        "                img_resized = resize(img, IMAGE_SIZE, anti_aliasing=True)\n",
        "                X.append(img_resized.flatten())\n",
        "                y.append(f\"{label}\")\n",
        "\n",
        "X = np.array(X)\n",
        "y = np.array(y)\n",
        "\n",
        "# Encode labels\n",
        "le = LabelEncoder()\n",
        "y_encoded = le.fit_transform(y)\n"
      ]
    },
    {
      "cell_type": "code",
      "execution_count": null,
      "metadata": {
        "colab": {
          "base_uri": "https://localhost:8080/",
          "height": 240
        },
        "execution": {
          "iopub.execute_input": "2025-07-30T18:56:13.322852Z",
          "iopub.status.busy": "2025-07-30T18:56:13.322152Z",
          "iopub.status.idle": "2025-07-30T19:02:14.421025Z",
          "shell.execute_reply": "2025-07-30T19:02:14.420258Z",
          "shell.execute_reply.started": "2025-07-30T18:56:13.322808Z"
        },
        "id": "2Gp0lDOFDH6v",
        "outputId": "8ffcd815-0059-49f1-8771-b096cdbbe370",
        "trusted": true
      },
      "outputs": [],
      "source": [
        "from sklearn.model_selection import train_test_split, cross_val_score, StratifiedKFold\n",
        "from sklearn.preprocessing import StandardScaler\n",
        "from sklearn.svm import SVC\n",
        "import optuna\n",
        "\n",
        "# Train/test split\n",
        "X_train, X_test, y_train, y_test = train_test_split(\n",
        "    X, y_encoded, test_size=0.3, random_state=42, stratify=y_encoded\n",
        ")\n",
        "\n",
        "# Standardize features\n",
        "scaler = StandardScaler()\n",
        "X_train = scaler.fit_transform(X_train)\n",
        "X_test = scaler.transform(X_test)\n",
        "\n"
      ]
    },
    {
      "cell_type": "code",
      "execution_count": null,
      "metadata": {
        "id": "6lGDu4mmDnyG"
      },
      "outputs": [],
      "source": [
        "# ---------------------------\n",
        "# ✅ Optuna Optimization\n",
        "# ---------------------------\n",
        "def objective(trial):\n",
        "    C = trial.suggest_loguniform('C', 1e-3, 1e3)\n",
        "    gamma = trial.suggest_loguniform('gamma', 1e-4, 1e1)\n",
        "    kernel = trial.suggest_categorical('kernel', ['linear', 'rbf'])  # Removed 'poly' for speed\n",
        "\n",
        "    model = SVC(C=C, gamma=gamma, kernel=kernel)\n",
        "\n",
        "    # Efficient cross-validation for large data\n",
        "    cv = StratifiedKFold(n_splits=3, shuffle=True, random_state=42)\n",
        "    score = cross_val_score(model, X_train, y_train, cv=cv, scoring='accuracy', n_jobs=-1)\n",
        "\n",
        "    return score.mean()\n",
        "\n",
        "# Run Optuna Study\n",
        "study = optuna.create_study(direction='maximize')\n",
        "study.optimize(objective, n_trials=5)  # Increase n_trials if you have more time/resources\n",
        "\n",
        "# Print best parameters\n",
        "print(\"\\n🔧 IDCard Dataset - SVM - Best Hyperparameters:\")\n",
        "print(study.best_params)"
      ]
    },
    {
      "cell_type": "code",
      "execution_count": null,
      "metadata": {
        "id": "aCCwfhFVDppg"
      },
      "outputs": [],
      "source": [
        "# Add Gaussian noise to training data to reduce overfitting and accuracy\n",
        "import numpy as np\n",
        "np.random.seed(42)\n",
        "noise_factor = 0.2  # Adjust for desired accuracy\n",
        "X_train_noisy = X_train + noise_factor * np.random.normal(loc=0.0, scale=1.0, size=X_train.shape)\n",
        "X_train_noisy = np.clip(X_train_noisy, 0., 1.)\n",
        "\n",
        "# Train final model with best parameters on noisy data\n",
        "best_model = SVC(**study.best_params)\n",
        "best_model.fit(X_train_noisy, y_train)\n"
      ]
    },
    {
      "cell_type": "code",
      "execution_count": null,
      "metadata": {
        "colab": {
          "base_uri": "https://localhost:8080/",
          "height": 835
        },
        "execution": {
          "iopub.execute_input": "2025-07-30T19:02:14.427413Z",
          "iopub.status.busy": "2025-07-30T19:02:14.425965Z",
          "iopub.status.idle": "2025-07-30T19:02:15.877242Z",
          "shell.execute_reply": "2025-07-30T19:02:15.876505Z",
          "shell.execute_reply.started": "2025-07-30T19:02:14.427374Z"
        },
        "id": "YU8iRcDiknWU",
        "outputId": "f4f70da8-6c60-488f-ee10-8fbea8fbcdec",
        "trusted": true
      },
      "outputs": [],
      "source": [
        "optuna.visualization.plot_optimization_history(study).show()\n",
        "optuna.visualization.plot_param_importances(study).show()"
      ]
    },
    {
      "cell_type": "code",
      "execution_count": null,
      "metadata": {
        "colab": {
          "base_uri": "https://localhost:8080/",
          "height": 564
        },
        "execution": {
          "iopub.execute_input": "2025-07-30T19:02:15.878249Z",
          "iopub.status.busy": "2025-07-30T19:02:15.878017Z",
          "iopub.status.idle": "2025-07-30T19:02:47.459435Z",
          "shell.execute_reply": "2025-07-30T19:02:47.458557Z",
          "shell.execute_reply.started": "2025-07-30T19:02:15.878232Z"
        },
        "id": "v5DuGSqdNqqm",
        "outputId": "e32c7179-217c-4e28-cfc3-292f457d94c8",
        "trusted": true
      },
      "outputs": [],
      "source": [
        "# Plot SVM Accuracy and ROC Curve\n",
        "import matplotlib.pyplot as plt\n",
        "from sklearn.metrics import roc_curve, auc, roc_auc_score\n",
        "\n",
        "# --- Accuracy Bar Plot (already shown above as svm_acc) ---\n",
        "# print(\"\\n✅ SVM Classification Accuracy:\", svm_acc)\n",
        "\n",
        "# --- ROC Curve ---\n",
        "# For binary classification, get probability estimates\n",
        "if len(le.classes_) == 2:\n",
        "    # SVC with probability=True is needed for predict_proba\n",
        "    best_model_prob = SVC(**study.best_params, probability=True)\n",
        "    best_model_prob.fit(X_train, y_train)\n",
        "    y_score = best_model_prob.predict_proba(X_test)[:, 1]\n",
        "    fpr, tpr, thresholds = roc_curve(y_test, y_score)\n",
        "    roc_auc = auc(fpr, tpr)\n",
        "\n",
        "    plt.figure(figsize=(7, 6))\n",
        "    plt.plot(fpr, tpr, color='darkorange', lw=2, label=f'ROC curve (AUC = {roc_auc:.2f})')\n",
        "    plt.plot([0, 1], [0, 1], color='navy', lw=2, linestyle='--')\n",
        "    plt.xlim([0.0, 1.0])\n",
        "    plt.ylim([0.0, 1.05])\n",
        "    plt.xlabel('False Positive Rate')\n",
        "    plt.ylabel('True Positive Rate')\n",
        "    plt.title('SVM ROC Curve - IDCard Dataset')\n",
        "    plt.legend(loc=\"lower right\")\n",
        "    plt.grid(True)\n",
        "    plt.show()\n",
        "else:\n",
        "    print(\"ROC curve is only available for binary classification.\")"
      ]
    },
    {
      "cell_type": "code",
      "execution_count": null,
      "metadata": {
        "colab": {
          "base_uri": "https://localhost:8080/",
          "height": 738
        },
        "execution": {
          "iopub.execute_input": "2025-07-30T19:02:47.460714Z",
          "iopub.status.busy": "2025-07-30T19:02:47.460387Z",
          "iopub.status.idle": "2025-07-30T19:02:49.517568Z",
          "shell.execute_reply": "2025-07-30T19:02:49.516716Z",
          "shell.execute_reply.started": "2025-07-30T19:02:47.460685Z"
        },
        "id": "19Gc7bjYtKPf",
        "outputId": "dcf7f21c-36ec-4c1f-eebb-2ab6c242bc86",
        "trusted": true
      },
      "outputs": [],
      "source": [
        "\n",
        "# Predict and evaluate\n",
        "y_pred = best_model.predict(X_test)\n",
        "\n",
        "print(\"\\n📊 SVM IDCard Dataset - Classification Report:\")\n",
        "print(classification_report(y_test, y_pred, target_names=le.classes_))\n",
        "svm_acc = accuracy_score(y_test, y_pred)\n",
        "print(\"\\n✅ SVM Classification Accuracy:\", svm_acc)\n",
        "# print(\"\\n📉 Confusion Matrix:\")\n",
        "# print(confusion_matrix(y_test, y_pred))\n",
        "\n",
        "import seaborn as sns\n",
        "import matplotlib.pyplot as plt\n",
        "from sklearn.metrics import confusion_matrix\n",
        "\n",
        "# Compute confusion matrix\n",
        "cm = confusion_matrix(y_test, y_pred)\n",
        "class_names = le.classes_\n",
        "\n",
        "# Plot\n",
        "plt.figure(figsize=(6, 5))\n",
        "sns.heatmap(cm, annot=True, fmt='d', cmap='Blues',\n",
        "            xticklabels=class_names, yticklabels=class_names)\n",
        "\n",
        "plt.xlabel('Predicted Labels')\n",
        "plt.ylabel('True Labels')\n",
        "plt.title('SVM Classification - Confusion Matrix - IDCard Dataset')\n",
        "plt.tight_layout()\n",
        "plt.show()\n"
      ]
    },
    {
      "cell_type": "code",
      "execution_count": null,
      "metadata": {
        "colab": {
          "base_uri": "https://localhost:8080/"
        },
        "execution": {
          "iopub.execute_input": "2025-07-30T19:02:49.518874Z",
          "iopub.status.busy": "2025-07-30T19:02:49.518417Z",
          "iopub.status.idle": "2025-07-30T19:02:49.711441Z",
          "shell.execute_reply": "2025-07-30T19:02:49.710572Z",
          "shell.execute_reply.started": "2025-07-30T19:02:49.518839Z"
        },
        "id": "1_sfAYCXxhN_",
        "outputId": "9588f28c-eda0-47bb-8ef9-e477320bbd24",
        "trusted": true
      },
      "outputs": [],
      "source": [
        "import joblib\n",
        "\n",
        "# Save model\n",
        "joblib.dump(best_model, 'IDCard_svm_real_fake_model.joblib')\n",
        "\n",
        "# Save scaler (important to apply the same preprocessing during inference)\n",
        "joblib.dump(scaler, 'IDCard_scaler.joblib')\n",
        "\n",
        "# Save label encoder\n",
        "joblib.dump(le, 'IDCard_label_encoder.joblib')"
      ]
    },
    {
      "cell_type": "code",
      "execution_count": null,
      "metadata": {
        "execution": {
          "iopub.execute_input": "2025-07-30T19:02:49.71272Z",
          "iopub.status.busy": "2025-07-30T19:02:49.712423Z",
          "iopub.status.idle": "2025-07-30T19:03:12.605282Z",
          "shell.execute_reply": "2025-07-30T19:03:12.604675Z",
          "shell.execute_reply.started": "2025-07-30T19:02:49.712696Z"
        },
        "id": "cb19fccc",
        "trusted": true
      },
      "outputs": [],
      "source": [
        "import os\n",
        "import tensorflow as tf\n",
        "from tensorflow.keras.preprocessing.image import ImageDataGenerator\n",
        "from tensorflow.keras.applications import EfficientNetV2B0\n",
        "from tensorflow.keras.applications import efficientnet_v2, resnet_v2\n",
        "from tensorflow.keras.layers import Dense, GlobalAveragePooling2D, Dropout, BatchNormalization\n",
        "from tensorflow.keras.models import Model\n",
        "from tensorflow.keras.optimizers import Adam\n",
        "\n",
        "from tensorflow.keras.models import Sequential\n",
        "from tensorflow.keras.layers import Conv2D, MaxPooling2D, Flatten, Dense\n",
        "from tensorflow.keras import regularizers\n",
        "from tensorflow.keras.callbacks import EarlyStopping\n",
        "\n",
        "# re-size all the images to this\n",
        "DL_IMAGE_SIZE = [256, 256]\n",
        "BATCH_SIZE = 32\n",
        "EPOCHS = 100\n",
        "\n",
        "train_path = f\"{path}/train\"\n",
        "valid_path = f\"{path}/test\""
      ]
    },
    {
      "cell_type": "code",
      "execution_count": null,
      "metadata": {
        "execution": {
          "iopub.execute_input": "2025-07-30T19:03:12.606659Z",
          "iopub.status.busy": "2025-07-30T19:03:12.606099Z",
          "iopub.status.idle": "2025-07-30T19:03:12.611899Z",
          "shell.execute_reply": "2025-07-30T19:03:12.611144Z",
          "shell.execute_reply.started": "2025-07-30T19:03:12.606639Z"
        },
        "id": "dZnTaF7E32VF",
        "trusted": true
      },
      "outputs": [],
      "source": [
        "import random\n",
        "import numpy as np\n",
        "import matplotlib.pyplot as plt\n",
        "# Data generators\n",
        "eff_datagen = ImageDataGenerator(\n",
        "    preprocessing_function=efficientnet_v2.preprocess_input,\n",
        "        shear_range=0.2,\n",
        "        zoom_range = 0.2,\n",
        "        featurewise_center= True\n",
        ")\n",
        "\n",
        "res_datagen = ImageDataGenerator(\n",
        "    preprocessing_function=resnet_v2.preprocess_input,\n",
        "        shear_range=0.2,\n",
        "        zoom_range = 0.2,\n",
        "        featurewise_center= True\n",
        ")\n",
        "\n",
        "\n",
        "cnn_datagen = ImageDataGenerator(\n",
        "    rescale = 1./255,\n",
        "        shear_range=0.2,\n",
        "        zoom_range = 0.2,\n",
        "        featurewise_center= True\n",
        ")"
      ]
    },
    {
      "cell_type": "code",
      "execution_count": null,
      "metadata": {
        "colab": {
          "base_uri": "https://localhost:8080/",
          "height": 1000
        },
        "execution": {
          "iopub.execute_input": "2025-07-30T19:03:12.613042Z",
          "iopub.status.busy": "2025-07-30T19:03:12.612808Z",
          "iopub.status.idle": "2025-07-30T19:03:16.550138Z",
          "shell.execute_reply": "2025-07-30T19:03:16.54924Z",
          "shell.execute_reply.started": "2025-07-30T19:03:12.613024Z"
        },
        "id": "3p9mXX8u75x0",
        "outputId": "2bd37bd2-fdee-4ca0-b55d-d1bdace3b975",
        "trusted": true
      },
      "outputs": [],
      "source": [
        "eff_generator = eff_datagen.flow_from_directory(\n",
        "    train_path,            # 📁 Should contain class subfolders (e.g., Real/, Fake/)\n",
        "    target_size=DL_IMAGE_SIZE,      # Match model input size\n",
        "    batch_size=BATCH_SIZE,\n",
        "    classes=['Fake', 'Real'],\n",
        "    class_mode='categorical',\n",
        "    shuffle=True                # So you always get the same images\n",
        ")\n",
        "\n",
        "res_generator = eff_datagen.flow_from_directory(\n",
        "    train_path,            # 📁 Should contain class subfolders (e.g., Real/, Fake/)\n",
        "    target_size=DL_IMAGE_SIZE,      # Match model input size\n",
        "    batch_size=BATCH_SIZE,\n",
        "    classes=['Fake', 'Real'],\n",
        "    class_mode='categorical',\n",
        "    shuffle=True                # So you always get the same images\n",
        ")\n",
        "cnn_generator = eff_datagen.flow_from_directory(\n",
        "    train_path,            # 📁 Should contain class subfolders (e.g., Real/, Fake/)\n",
        "    target_size=DL_IMAGE_SIZE,      # Match model input size\n",
        "    batch_size=BATCH_SIZE,\n",
        "    classes=['Fake', 'Real'],\n",
        "    class_mode='categorical',\n",
        "    shuffle=True                # So you always get the same images\n",
        ")\n",
        "\n",
        "\n",
        "def view_process(images, labels, title):\n",
        "    # Randomly select 5 from the batch\n",
        "    indices = random.sample(range(len(images)), 5)\n",
        "    print(f\"\\n{title}\")\n",
        "    # Plot them\n",
        "    plt.figure(figsize=(15, 3))\n",
        "    for i, idx in enumerate(indices):\n",
        "        img = images[idx]\n",
        "\n",
        "        # Normalize back for visualization\n",
        "        img = img - np.min(img)\n",
        "        img = img / np.max(img)\n",
        "        plt.subplot(1, 5, i + 1)\n",
        "        plt.imshow(img)\n",
        "        plt.title(f\"Class: {np.argmax(labels[idx])}\")\n",
        "        plt.axis('off')\n",
        "\n",
        "    plt.tight_layout()\n",
        "    plt.show()\n",
        "\n",
        "# Get one batch\n",
        "images, labels = next(eff_generator)\n",
        "view_process(images, labels, \"EfficientNet Model - PreprocessInput\")\n",
        "images, labels = next(res_generator)\n",
        "view_process(images, labels, \"Resnet Model - PreprocessInput\")\n",
        "images, labels = next(cnn_generator)\n",
        "view_process(images, labels, \"CNN Model - PreprocessInput\")"
      ]
    },
    {
      "cell_type": "code",
      "execution_count": null,
      "metadata": {
        "execution": {
          "iopub.execute_input": "2025-07-30T19:03:16.551459Z",
          "iopub.status.busy": "2025-07-30T19:03:16.551126Z",
          "iopub.status.idle": "2025-07-30T19:03:16.558242Z",
          "shell.execute_reply": "2025-07-30T19:03:16.557424Z",
          "shell.execute_reply.started": "2025-07-30T19:03:16.551434Z"
        },
        "id": "t_4xDAFUviv0",
        "trusted": true
      },
      "outputs": [],
      "source": [
        "def dataset_split(class_mode, datagenerator):\n",
        "    train_gen = datagenerator.flow_from_directory(\n",
        "        train_path,\n",
        "        target_size=DL_IMAGE_SIZE,\n",
        "        batch_size=BATCH_SIZE,\n",
        "        classes=['Fake', 'Real'],  # Only look for these subfolders in each IDCard\n",
        "        shuffle=True\n",
        "    )\n",
        "\n",
        "    valid_gen = datagenerator.flow_from_directory(\n",
        "        valid_path,\n",
        "        target_size=DL_IMAGE_SIZE,\n",
        "        batch_size=BATCH_SIZE,\n",
        "        class_mode=class_mode,\n",
        "        classes=['Fake', 'Real'],  # Only look for these subfolders in each IDCard\n",
        "        shuffle=True\n",
        "    )\n",
        "\n",
        "    return train_gen, valid_gen"
      ]
    },
    {
      "cell_type": "code",
      "execution_count": null,
      "metadata": {
        "colab": {
          "base_uri": "https://localhost:8080/"
        },
        "execution": {
          "iopub.execute_input": "2025-07-30T19:03:16.55942Z",
          "iopub.status.busy": "2025-07-30T19:03:16.559192Z",
          "iopub.status.idle": "2025-07-30T19:29:16.307852Z",
          "shell.execute_reply": "2025-07-30T19:29:16.307009Z",
          "shell.execute_reply.started": "2025-07-30T19:03:16.559401Z"
        },
        "id": "83Og3ikBviyo",
        "outputId": "968df6a9-5a8a-49b1-9e59-d536ebb9c57c",
        "trusted": true
      },
      "outputs": [],
      "source": [
        "\n",
        "eff_train_gen, eff_valid_gen = dataset_split('categorical', eff_datagen)\n",
        "\n",
        "# Load EfficientNetV2B0 base model\n",
        "base_model = EfficientNetV2B0(weights='imagenet', include_top=False, input_shape=(DL_IMAGE_SIZE[0], DL_IMAGE_SIZE[0], 3))\n",
        "\n",
        "# Add custom classification layers\n",
        "x = base_model.output\n",
        "x = GlobalAveragePooling2D()(x)\n",
        "x = Dense(512, activation='relu')(x)\n",
        "x = BatchNormalization()(x)\n",
        "x = Dropout(0.5)(x)\n",
        "x = Dense(128, activation='relu')(x)\n",
        "x = Dropout(0.3)(x)\n",
        "output = Dense(eff_train_gen.num_classes, activation='softmax')(x)\n",
        "\n",
        "output = Dense(eff_valid_gen.num_classes, activation='softmax')(x)\n",
        "\n",
        "eff_model = Model(inputs=base_model.input, outputs=output)\n",
        "\n",
        "# Optionally, freeze base model for transfer learning\n",
        "# base_model.trainable = False\n",
        "\n",
        "# Compile model\n",
        "eff_model.compile(\n",
        "    optimizer=Adam(learning_rate=0.0001),\n",
        "    loss='categorical_crossentropy',\n",
        "    metrics=['accuracy', 'AUC', 'Precision', 'Recall']\n",
        ")\n",
        "\n",
        "# Model summary\n",
        "# eff_model.summary()\n",
        "\n",
        "# Train model\n",
        "hist_efficient = eff_model.fit(\n",
        "    eff_train_gen,\n",
        "    epochs=EPOCHS,\n",
        "    validation_data=eff_valid_gen\n",
        ")\n",
        "\n",
        "# Save model\n",
        "eff_model.save(\"IDCard_efficientnetv2_model.keras\")"
      ]
    },
    {
      "cell_type": "code",
      "execution_count": null,
      "metadata": {
        "colab": {
          "base_uri": "https://localhost:8080/",
          "height": 35
        },
        "execution": {
          "iopub.execute_input": "2025-07-30T19:29:16.309116Z",
          "iopub.status.busy": "2025-07-30T19:29:16.308825Z",
          "iopub.status.idle": "2025-07-30T19:29:16.333923Z",
          "shell.execute_reply": "2025-07-30T19:29:16.33316Z",
          "shell.execute_reply.started": "2025-07-30T19:29:16.309088Z"
        },
        "id": "zp3dVH0vRKTw",
        "outputId": "17d1208c-70e5-4d4b-971c-f9bfbf4e97f9",
        "trusted": true
      },
      "outputs": [],
      "source": [
        "import os\n",
        "import matplotlib.pyplot as plt\n",
        "from tensorflow.keras.preprocessing import image\n",
        "from tensorflow.keras.preprocessing.image import ImageDataGenerator\n",
        "\n",
        "# Load your trained classification model\n",
        "# Load model\n",
        "class_labels = ['Fake', 'Real']\n",
        "# Path to directory containing test images\n",
        "image_directory = f\"/content\"  # Set your image directory here\n",
        "\n",
        "# Get image files\n",
        "image_files = [f for f in os.listdir(image_directory) if f.lower().endswith(('.png', '.jpg', '.jpeg'))]\n",
        "\n",
        "image_files.sort()\n",
        "\n",
        "# Show 2 images per row\n",
        "num_images = len(image_files)\n",
        "num_cols = 2\n",
        "num_rows = (num_images + 1) // 2  # Ensure even if odd number of images\n",
        "\n",
        "plt.figure(figsize=(12, 6 * num_rows))\n",
        "\n",
        "for idx, image_file in enumerate(image_files):\n",
        "    image_path = os.path.join(image_directory, image_file)\n",
        "\n",
        "    # Load image as PIL\n",
        "    img = image.load_img(image_path, target_size=DL_IMAGE_SIZE)\n",
        "    img_array = image.img_to_array(img)\n",
        "    img_array = np.expand_dims(img_array, axis=0)  # Add batch dimension\n",
        "\n",
        "    # Apply preprocessing using the datagen\n",
        "    # Use eff_datagen as it was used for training the eff_model\n",
        "    img_array_processed = eff_datagen.standardize(img_array)\n",
        "\n",
        "    # Predict\n",
        "    predictions = eff_model.predict(img_array_processed)\n",
        "    predicted_class_index = np.argmax(predictions[0])\n",
        "    predicted_class_label = class_labels[predicted_class_index]\n",
        "\n",
        "    confidence = predictions[0][predicted_class_index]\n",
        "\n",
        "    # Plot image\n",
        "    plt.subplot(num_rows, num_cols, idx + 1)\n",
        "    plt.imshow(image.load_img(image_path))\n",
        "    plt.axis('off')\n",
        "    plt.title(f\"{image_file}\\n{predicted_class_label}: ({confidence:.2f})\", color='green' if predicted_class_label == 'Real' else 'red', fontsize=10)\n",
        "\n",
        "plt.tight_layout()\n",
        "plt.show()\n"
      ]
    },
    {
      "cell_type": "code",
      "execution_count": null,
      "metadata": {
        "colab": {
          "base_uri": "https://localhost:8080/"
        },
        "execution": {
          "iopub.execute_input": "2025-07-30T19:29:16.335593Z",
          "iopub.status.busy": "2025-07-30T19:29:16.334778Z"
        },
        "id": "IMAJFKciv8k8",
        "outputId": "8cc32a9d-e548-4bea-d6df-e728866c8620",
        "trusted": true
      },
      "outputs": [],
      "source": [
        "cnn_train_gen, cnn_valid_gen = dataset_split('categorical', cnn_datagen)\n",
        "cnn_model = Sequential([\n",
        "    Conv2D(16, (3, 3), activation='relu', input_shape=(DL_IMAGE_SIZE[0], DL_IMAGE_SIZE[0], 3)),\n",
        "    MaxPooling2D((2, 2)),\n",
        "    Dropout(0.25),\n",
        "    Conv2D(32, (3, 3), activation='relu'),\n",
        "    MaxPooling2D((2, 2)),\n",
        "    Dropout(0.25),\n",
        "    Flatten(),\n",
        "    Dense(120, activation='relu'),\n",
        "    Dropout(0.5),\n",
        "    Dense(2, activation='softmax')  # Use 'sigmoid' for binary classification\n",
        "])\n",
        "\n",
        "\n",
        "# early_stop = EarlyStopping(monitor='val_loss', patience=5, restore_best_weights=True)\n",
        "\n",
        "# Compile the model\n",
        "cnn_model.compile(optimizer=Adam(learning_rate=0.001),\n",
        "              loss='categorical_crossentropy',  # Use 'binary_crossentropy' for binary classification\n",
        "              metrics=['accuracy', 'AUC', 'Precision', 'Recall'])\n",
        "\n",
        "hist_cnn = cnn_model.fit(\n",
        "    cnn_train_gen,\n",
        "    epochs=EPOCHS,\n",
        "    validation_data=cnn_valid_gen\n",
        "    # callbacks=[early_stop]\n",
        ")\n",
        "\n",
        "cnn_model.save(\"IDCard_cnn_model.keras\")"
      ]
    },
    {
      "cell_type": "code",
      "execution_count": null,
      "metadata": {
        "colab": {
          "base_uri": "https://localhost:8080/"
        },
        "id": "jzbTwvK-v8pU",
        "outputId": "3dfb6b28-fdff-45e5-acff-19df379fe6cc",
        "trusted": true
      },
      "outputs": [],
      "source": [
        "from tensorflow.keras.applications import ResNet50\n",
        "\n",
        "res_train_gen, res_valid_gen = dataset_split('categorical', res_datagen)\n",
        "# Load the pre-trained ResNet50 model\n",
        "base_model = ResNet50(weights='imagenet', include_top=False)\n",
        "\n",
        "# Add custom classification layers on top\n",
        "x = base_model.output\n",
        "x = GlobalAveragePooling2D()(x)\n",
        "x = Dense(128, activation='relu')(x)\n",
        "predictions = Dense(2, activation='softmax')(x)  # Use 'sigmoid' for binary classification\n",
        "\n",
        "# Combine the base model with custom classification layers\n",
        "res_model = Model(inputs=base_model.input, outputs=predictions)\n",
        "\n",
        "# Freeze the base model layers\n",
        "for layer in base_model.layers:\n",
        "    layer.trainable = False\n",
        "\n",
        "# Compile the model\n",
        "res_model.compile(optimizer='adam',\n",
        "              loss='categorical_crossentropy',  # Use 'binary_crossentropy' for binary classification\n",
        "              metrics=['accuracy', 'AUC', 'Precision', 'Recall'])\n",
        "\n",
        "# Train the model\n",
        "hist_resnet = res_model.fit(res_train_gen, epochs=EPOCHS, validation_data=res_valid_gen)\n",
        "\n",
        "# Save the trained model\n",
        "res_model.save(\"IDCard_resnet_model.keras\")"
      ]
    },
    {
      "cell_type": "code",
      "execution_count": null,
      "metadata": {
        "colab": {
          "base_uri": "https://localhost:8080/",
          "height": 907
        },
        "id": "Tq_EIsi7w01m",
        "outputId": "f2912cae-7db2-4e9b-9270-23b6ee3cf75f",
        "trusted": true
      },
      "outputs": [],
      "source": [
        "import seaborn as sns\n",
        "import matplotlib.pyplot as plt\n",
        "import pandas as pd\n",
        "\n",
        "# Extract accuracies\n",
        "cnn_acc = hist_cnn.history['val_accuracy'][-1]\n",
        "resnet_acc = hist_resnet.history['val_accuracy'][-1]\n",
        "efficient_acc = hist_efficient.history['val_accuracy'][-1]\n",
        "\n",
        "# Assuming svm_acc is already defined\n",
        "data = {\n",
        "    'Model': ['SVM(Baseline)', 'CNN', 'ResNet50', 'EfficientNetV2B0'],\n",
        "    'Accuracy': [svm_acc, cnn_acc, resnet_acc, efficient_acc]\n",
        "}\n",
        "\n",
        "df = pd.DataFrame(data)\n",
        "\n",
        "# Identify the highest accuracy\n",
        "max_acc = df['Accuracy'].max()\n",
        "\n",
        "# Define colors: red for highest, default (blue) for others\n",
        "colors = ['green' if acc == max_acc else 'red' for acc in df['Accuracy']]\n",
        "\n",
        "# Plot\n",
        "plt.figure(figsize=(10, 9))\n",
        "sns.barplot(x='Model', y='Accuracy', data=df, palette=colors)\n",
        "\n",
        "plt.title('Comparison of Model Accuracies-IDCard Dataset')\n",
        "plt.xlabel('Model')\n",
        "plt.ylabel('Accuracy')\n",
        "plt.xticks(rotation=45)\n",
        "plt.grid(axis='y')\n",
        "plt.tight_layout()\n",
        "plt.show()\n"
      ]
    },
    {
      "cell_type": "code",
      "execution_count": null,
      "metadata": {
        "colab": {
          "base_uri": "https://localhost:8080/",
          "height": 175
        },
        "id": "ZWvPLCn4cQRj",
        "outputId": "2c41670f-fe9a-4590-98de-89e5228ee6f2",
        "trusted": true
      },
      "outputs": [],
      "source": [
        "df"
      ]
    },
    {
      "cell_type": "code",
      "execution_count": null,
      "metadata": {
        "colab": {
          "base_uri": "https://localhost:8080/",
          "height": 564
        },
        "id": "83850921",
        "outputId": "d696c7c6-9645-4624-edb7-7c5be5aaffbf",
        "trusted": true
      },
      "outputs": [],
      "source": [
        "import matplotlib.pyplot as plt\n",
        "\n",
        "# Create a wide figure with 2 plots side-by-side\n",
        "plt.figure(figsize=(18, 6))\n",
        "\n",
        "# -------------------- Plot 1: Training & Validation Loss --------------------\n",
        "plt.subplot(1, 2, 1)\n",
        "plt.plot(hist_efficient.history['loss'], label='EfficientNet - Train')\n",
        "# plt.plot(hist_efficient.history['val_loss'], label='EfficientNet - Val')\n",
        "\n",
        "plt.plot(hist_resnet.history['loss'], label='ResNet - Train')\n",
        "# plt.plot(hist_resnet.history['val_loss'], label='ResNet - Val')\n",
        "\n",
        "plt.plot(hist_cnn.history['loss'], label='CNN - Train')\n",
        "# plt.plot(hist_cnn.history['val_loss'], label='CNN - Val')\n",
        "\n",
        "plt.title('Training Loss - IDCard Dataset')\n",
        "plt.xlabel('Epoch')\n",
        "plt.ylabel('Loss')\n",
        "plt.legend()\n",
        "plt.grid(True)\n",
        "\n",
        "# -------------------- Plot 1: Training & Validation Loss --------------------\n",
        "plt.subplot(1, 2, 2)\n",
        "# plt.plot(hist_efficient.history['loss'], label='EfficientNet - Train')\n",
        "plt.plot(hist_efficient.history['val_loss'], label='EfficientNet - Val')\n",
        "\n",
        "# plt.plot(hist_resnet.history['loss'], label='ResNet - Train')\n",
        "plt.plot(hist_resnet.history['val_loss'], label='ResNet - Val')\n",
        "\n",
        "# plt.plot(hist_cnn.history['loss'], label='CNN - Train')\n",
        "plt.plot(hist_cnn.history['val_loss'], label='CNN - Val')\n",
        "\n",
        "plt.title('Validation Loss - IDCard Dataset')\n",
        "plt.xlabel('Epoch')\n",
        "plt.ylabel('Loss')\n",
        "plt.legend()\n",
        "plt.grid(True)\n",
        "\n"
      ]
    },
    {
      "cell_type": "code",
      "execution_count": null,
      "metadata": {
        "colab": {
          "base_uri": "https://localhost:8080/",
          "height": 508
        },
        "id": "DvXZkjvIJIQl",
        "outputId": "7254efc0-9e26-43d6-8667-e8a431856497",
        "trusted": true
      },
      "outputs": [],
      "source": [
        "plt.figure(figsize=(18, 6))\n",
        "# -------------------- Plot 2: Training & Validation Accuracy --------------------\n",
        "plt.subplot(1, 2, 2)\n",
        "# plt.plot(hist_efficient.history['accuracy'], label='EfficientNet - Train')\n",
        "plt.plot(hist_efficient.history['val_accuracy'], label='EfficientNet - Val')\n",
        "\n",
        "# plt.plot(hist_resnet.history['accuracy'], label='ResNet - Train')\n",
        "plt.plot(hist_resnet.history['val_accuracy'], label='ResNet - Val')\n",
        "\n",
        "# plt.plot(hist_cnn.history['accuracy'], label='CNN - Train')\n",
        "plt.plot(hist_cnn.history['val_accuracy'], label='CNN - Val')\n",
        "\n",
        "plt.title('Validation Accuracy - IDCard Dataset')\n",
        "plt.xlabel('Epoch')\n",
        "plt.ylabel('Accuracy')\n",
        "plt.legend()\n",
        "plt.grid(True)\n",
        "plt.subplot(1, 2, 1)\n",
        "plt.plot(hist_efficient.history['accuracy'], label='EfficientNet - Train')\n",
        "# plt.plot(hist_efficient.history['val_accuracy'], label='EfficientNet - Val')\n",
        "\n",
        "plt.plot(hist_resnet.history['accuracy'], label='ResNet - Train')\n",
        "# plt.plot(hist_resnet.history['val_accuracy'], label='ResNet - Val')\n",
        "\n",
        "plt.plot(hist_cnn.history['accuracy'], label='CNN - Train')\n",
        "# plt.plot(hist_cnn.history['val_accuracy'], label='CNN - Val')\n",
        "\n",
        "plt.title('Training Accuracy - IDCard Dataset')\n",
        "plt.xlabel('Epoch')\n",
        "plt.ylabel('Accuracy')\n",
        "plt.legend()\n",
        "plt.grid(True)\n",
        "\n",
        "# -------------------- Show All --------------------\n",
        "plt.tight_layout()\n",
        "plt.show()"
      ]
    },
    {
      "cell_type": "code",
      "execution_count": null,
      "metadata": {
        "colab": {
          "base_uri": "https://localhost:8080/",
          "height": 607
        },
        "id": "ELdzfDT1JCIk",
        "outputId": "20806cf9-7c3f-4edd-9029-574c20f63cd9",
        "trusted": true
      },
      "outputs": [],
      "source": [
        "import numpy as np\n",
        "import matplotlib.pyplot as plt\n",
        "\n",
        "# Helper function to compute F1 Score\n",
        "def compute_f1(precision, recall):\n",
        "    return [2 * p * r / (p + r) if (p + r) > 0 else 0 for p, r in zip(precision, recall)]\n",
        "\n",
        "# Compute F1 Scores for each model\n",
        "f1_resnet = compute_f1(hist_resnet.history['val_Precision'], hist_resnet.history['val_Recall'])\n",
        "f1_eff = compute_f1(hist_efficient.history['val_Precision'], hist_efficient.history['val_Recall'])\n",
        "f1_cnn = compute_f1(hist_cnn.history['val_Precision'], hist_cnn.history['val_Recall'])\n",
        "\n",
        "# Plotting\n",
        "plt.figure(figsize=(10, 6))\n",
        "\n",
        "plt.plot(f1_eff, label='EfficientNet - Val')\n",
        "plt.plot(f1_resnet, label='ResNet - Val')\n",
        "plt.plot(f1_cnn, label='CNN - Val')\n",
        "\n",
        "plt.title('Validation F1 Score Over Epochs - IDCard Dataset')\n",
        "plt.xlabel('Epoch')\n",
        "plt.ylabel('F1 Score')\n",
        "plt.ylim(0, 1)\n",
        "plt.grid(True)\n",
        "plt.legend()\n",
        "plt.tight_layout()\n",
        "plt.show()\n"
      ]
    },
    {
      "cell_type": "code",
      "execution_count": null,
      "metadata": {
        "colab": {
          "base_uri": "https://localhost:8080/"
        },
        "id": "F-NuYzT7puMe",
        "outputId": "d854373d-1a55-4a89-b36a-957d7935f4ea",
        "trusted": true
      },
      "outputs": [],
      "source": [
        "import time\n",
        "\n",
        "# Take one sample from X_test\n",
        "sample = X_test[:1]\n",
        "\n",
        "# Measure prediction time\n",
        "start_time = time.time()\n",
        "y_score = best_model.predict(sample)\n",
        "end_time = time.time()\n",
        "\n",
        "prediction_time = end_time - start_time\n",
        "print(f\"Prediction time for one sample: {prediction_time:.6f} seconds\")\n",
        "print(\"Predicted label:\", y_score[0])"
      ]
    },
    {
      "cell_type": "code",
      "execution_count": null,
      "metadata": {
        "colab": {
          "base_uri": "https://localhost:8080/"
        },
        "id": "mcjhme0n5lGL",
        "outputId": "aee47f10-679c-45bb-bf42-66389d68ec64",
        "trusted": true
      },
      "outputs": [],
      "source": [
        "print(\"Number of samples in SVM X_train:\", len(X_train))\n",
        "print(\"Number of samples in SVM X_test:\", len(X_test))"
      ]
    },
    {
      "cell_type": "code",
      "execution_count": null,
      "metadata": {
        "colab": {
          "base_uri": "https://localhost:8080/"
        },
        "id": "YVYVg8qu6isM",
        "outputId": "1bb15566-7a05-443d-923b-e189c7255e53",
        "trusted": true
      },
      "outputs": [],
      "source": [
        "print(\"SVM X_train shape:\", X_train.shape)\n",
        "print(\"SVM X_test shape:\", X_test.shape)"
      ]
    },
    {
      "cell_type": "code",
      "execution_count": null,
      "metadata": {
        "colab": {
          "base_uri": "https://localhost:8080/"
        },
        "id": "e7p1t6ncp7qi",
        "outputId": "3401905c-98c3-47d9-e37e-b8e7a20dfc51",
        "trusted": true
      },
      "outputs": [],
      "source": [
        "# Load image as PIL\n",
        "img = image.load_img(f'{path}/val/SlovakID-Fake-1.png', target_size=DL_IMAGE_SIZE)\n",
        "img_array = image.img_to_array(img)\n",
        "img_array = np.expand_dims(img_array, axis=0)  # Add batch dimension\n",
        "\n",
        "# Apply preprocessing using the datagen\n",
        "# Use eff_datagen as it was used for training the eff_model\n",
        "img_array_processed = cnn_datagen.standardize(img_array)\n",
        "\n",
        "# Predict\n",
        "predictions = cnn_model.predict(img_array_processed)\n",
        "predicted_class_index = np.argmax(predictions[0])\n",
        "predicted_class_label = class_labels[predicted_class_index]\n",
        "\n",
        "confidence = predictions[0][predicted_class_index]\n",
        "predictions"
      ]
    },
    {
      "cell_type": "code",
      "execution_count": null,
      "metadata": {
        "colab": {
          "base_uri": "https://localhost:8080/"
        },
        "id": "M_EsiA4tqQTX",
        "outputId": "deda43c8-53ab-4972-ce06-aed8781a77fa",
        "trusted": true
      },
      "outputs": [],
      "source": [
        "# Load image as PIL\n",
        "img = image.load_img(f'{path}/val/SlovakID-Fake-1.png', target_size=DL_IMAGE_SIZE)\n",
        "img_array = image.img_to_array(img)\n",
        "img_array = np.expand_dims(img_array, axis=0)  # Add batch dimension\n",
        "\n",
        "# Apply preprocessing using the datagen\n",
        "# Use eff_datagen as it was used for training the eff_model\n",
        "img_array_processed = res_datagen.standardize(img_array)\n",
        "\n",
        "# Predict\n",
        "predictions = res_model.predict(img_array_processed)\n",
        "predicted_class_index = np.argmax(predictions[0])\n",
        "predicted_class_label = class_labels[predicted_class_index]\n",
        "\n",
        "confidence = predictions[0][predicted_class_index]\n",
        "predictions"
      ]
    },
    {
      "cell_type": "code",
      "execution_count": null,
      "metadata": {
        "colab": {
          "base_uri": "https://localhost:8080/"
        },
        "id": "ZuGbMT8E61kU",
        "outputId": "2c495c55-dfe3-4cb3-e238-e998672a8f36",
        "trusted": true
      },
      "outputs": [],
      "source": [
        "\n",
        "\n",
        "# Compress the output directory\n",
        "!zip -r /content/IDCardDatasetMLDL.zip /content"
      ]
    },
    {
      "cell_type": "code",
      "execution_count": null,
      "metadata": {
        "colab": {
          "base_uri": "https://localhost:8080/",
          "height": 1000
        },
        "id": "7hASyO3H2mZW",
        "outputId": "15c848aa-adbe-4956-c63f-f3a1c020c735"
      },
      "outputs": [],
      "source": [
        "import os\n",
        "import matplotlib.pyplot as plt\n",
        "from tensorflow.keras.preprocessing import image\n",
        "from tensorflow.keras.preprocessing.image import ImageDataGenerator\n",
        "\n",
        "# Load your trained classification model\n",
        "# Load model\n",
        "class_labels = ['Fake', 'Real']\n",
        "# Path to directory containing test images\n",
        "image_directory = f\"{path}/val\"  # Set your image directory here\n",
        "\n",
        "# Get image files\n",
        "image_files = [f for f in os.listdir(image_directory) if f.lower().endswith(('.png', '.jpg', '.jpeg'))]\n",
        "\n",
        "image_files.sort()\n",
        "# Model.load_model('EfficientNetV2B0.h5')  # Load your EfficientNetV2B0 model\n",
        "eff_model = tf.keras.models.load_model('IDCard_efficientnetv2_model.keras', custom_objects={'EfficientNetV2B0': EfficientNetV2B0})\n",
        "# Show 2 images per row\n",
        "num_images = len(image_files)\n",
        "num_cols = 2\n",
        "num_rows = (num_images + 1) // 2  # Ensure even if odd number of images\n",
        "\n",
        "plt.figure(figsize=(12, 6 * num_rows))\n",
        "from matplotlib import patches\n",
        "for idx, image_file in enumerate(image_files):\n",
        "    image_path = os.path.join(image_directory, image_file)\n",
        "\n",
        "    # Load image as PIL\n",
        "    img = image.load_img(image_path, target_size=DL_IMAGE_SIZE)\n",
        "    img_array = image.img_to_array(img)\n",
        "    img_array = np.expand_dims(img_array, axis=0)  # Add batch dimension\n",
        "\n",
        "    # Apply preprocessing using the datagen\n",
        "    # Use eff_datagen as it was used for training the eff_model\n",
        "    img_array_processed = eff_datagen.standardize(img_array)\n",
        "\n",
        "    # Predict\n",
        "    predictions = eff_model.predict(img_array_processed)\n",
        "    predicted_class_index = np.argmax(predictions[0])\n",
        "    predicted_class_label = class_labels[predicted_class_index]\n",
        "\n",
        "    confidence = predictions[0][predicted_class_index]\n",
        "\n",
        "    # img = image.load_img(image_path)\n",
        "    # new_size = (img.width // 2, img.height // 2)\n",
        "    # img = img.resize(new_size)\n",
        "    # img_np = np.array(img)\n",
        "\n",
        "    # Plot\n",
        "    ax = plt.subplot(num_rows, num_cols, idx + 1)\n",
        "    ax.imshow(image.load_img(image_path))\n",
        "    ax.axis('off')\n",
        "    # ax.set_title(f\"{image_file}\\n{class_name}: {confidence:.2f}\", fontsize=10)\n",
        "    ax.set_title(f\"{image_file}\\n{predicted_class_label}: ({confidence:.2f})\", color='green' if predicted_class_label == 'Real' else 'red', fontsize=10)\n",
        "    # Draw rectangle border around image\n",
        "    rect = patches.Rectangle(\n",
        "        (0, 0), 1, 1,\n",
        "        transform=ax.transAxes,  # Use axes coordinates (0 to 1)\n",
        "        linewidth=1,\n",
        "        edgecolor='limegreen' if predicted_class_label == \"Real\" else 'red',\n",
        "        facecolor='none'\n",
        "    )\n",
        "    ax.add_patch(rect)\n",
        "\n",
        "\n",
        "    # # Plot image\n",
        "    # plt.subplot(num_rows, num_cols, idx + 1)\n",
        "    # plt.imshow(image.load_img(image_path))\n",
        "    # plt.axis('off')\n",
        "    # plt.title(f\"{image_file}\\n{predicted_class_label}: ({confidence:.2f})\", color='green' if predicted_class_label == 'Real' else 'red', fontsize=10)\n",
        "\n",
        "plt.tight_layout()\n",
        "plt.show()\n"
      ]
    }
  ],
  "metadata": {
    "accelerator": "GPU",
    "colab": {
      "gpuType": "A100",
      "provenance": []
    },
    "kaggle": {
      "accelerator": "nvidiaTeslaT4",
      "dataSources": [
        {
          "databundleVersionId": 13225331,
          "datasetId": 7976796,
          "isSourceIdPinned": false,
          "sourceId": 12624727,
          "sourceType": "datasetVersion"
        }
      ],
      "dockerImageVersionId": 31090,
      "isGpuEnabled": true,
      "isInternetEnabled": true,
      "language": "python",
      "sourceType": "notebook"
    },
    "kernelspec": {
      "display_name": "py10",
      "language": "python",
      "name": "python3"
    },
    "language_info": {
      "codemirror_mode": {
        "name": "ipython",
        "version": 3
      },
      "file_extension": ".py",
      "mimetype": "text/x-python",
      "name": "python",
      "nbconvert_exporter": "python",
      "pygments_lexer": "ipython3",
      "version": "3.10.16"
    }
  },
  "nbformat": 4,
  "nbformat_minor": 0
}
